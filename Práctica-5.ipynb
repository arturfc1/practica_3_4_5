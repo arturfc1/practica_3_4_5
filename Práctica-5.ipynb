{
 "cells": [
  {
   "cell_type": "code",
   "execution_count": 71,
   "metadata": {},
   "outputs": [],
   "source": [
    "import pandas as pd\n",
    "import numpy as np\n",
    "import matplotlib.pyplot as plt\n",
    "from matplotlib.colors import ListedColormap\n",
    "import matplotlib.patches as mpatches\n",
    "import seaborn as sb\n",
    " \n",
    "%matplotlib inline\n",
    "plt.rcParams['figure.figsize'] = (16, 9)\n",
    "plt.style.use('ggplot')\n",
    " \n",
    "from sklearn.model_selection import train_test_split\n",
    "from sklearn.preprocessing import MinMaxScaler\n",
    "from sklearn.neighbors import KNeighborsClassifier\n",
    "from sklearn.metrics import classification_report\n",
    "from sklearn.metrics import confusion_matrix\n"
   ]
  },
  {
   "cell_type": "code",
   "execution_count": 74,
   "metadata": {},
   "outputs": [
    {
     "data": {
      "text/html": [
       "<div>\n",
       "<style scoped>\n",
       "    .dataframe tbody tr th:only-of-type {\n",
       "        vertical-align: middle;\n",
       "    }\n",
       "\n",
       "    .dataframe tbody tr th {\n",
       "        vertical-align: top;\n",
       "    }\n",
       "\n",
       "    .dataframe thead th {\n",
       "        text-align: right;\n",
       "    }\n",
       "</style>\n",
       "<table border=\"1\" class=\"dataframe\">\n",
       "  <thead>\n",
       "    <tr style=\"text-align: right;\">\n",
       "      <th></th>\n",
       "      <th>Clave Entidad</th>\n",
       "      <th>Entidad</th>\n",
       "      <th>Clave Jurisdicción</th>\n",
       "      <th>Jurisdicción</th>\n",
       "      <th>Clave Municipio</th>\n",
       "      <th>Municipio</th>\n",
       "      <th>Edad</th>\n",
       "      <th>Fecha Toma Masto</th>\n",
       "      <th>Fecha Interpretación Masto</th>\n",
       "      <th>Resultado</th>\n",
       "    </tr>\n",
       "  </thead>\n",
       "  <tbody>\n",
       "    <tr>\n",
       "      <th>0</th>\n",
       "      <td>1</td>\n",
       "      <td>Aguascalientes</td>\n",
       "      <td>1</td>\n",
       "      <td>Aguascalientes</td>\n",
       "      <td>1</td>\n",
       "      <td>AGUASCALIENTES</td>\n",
       "      <td>57</td>\n",
       "      <td>00:00.0</td>\n",
       "      <td>00:00.0</td>\n",
       "      <td>Altamente Sugestiva a Malignidad</td>\n",
       "    </tr>\n",
       "    <tr>\n",
       "      <th>1</th>\n",
       "      <td>1</td>\n",
       "      <td>Aguascalientes</td>\n",
       "      <td>1</td>\n",
       "      <td>Aguascalientes</td>\n",
       "      <td>1</td>\n",
       "      <td>AGUASCALIENTES</td>\n",
       "      <td>57</td>\n",
       "      <td>00:00.0</td>\n",
       "      <td>00:00.0</td>\n",
       "      <td>Altamente Sugestiva a Malignidad</td>\n",
       "    </tr>\n",
       "    <tr>\n",
       "      <th>2</th>\n",
       "      <td>1</td>\n",
       "      <td>Aguascalientes</td>\n",
       "      <td>1</td>\n",
       "      <td>Aguascalientes</td>\n",
       "      <td>1</td>\n",
       "      <td>AGUASCALIENTES</td>\n",
       "      <td>57</td>\n",
       "      <td>00:00.0</td>\n",
       "      <td>00:00.0</td>\n",
       "      <td>Probablemente Benigna</td>\n",
       "    </tr>\n",
       "    <tr>\n",
       "      <th>3</th>\n",
       "      <td>1</td>\n",
       "      <td>Aguascalientes</td>\n",
       "      <td>1</td>\n",
       "      <td>Aguascalientes</td>\n",
       "      <td>1</td>\n",
       "      <td>AGUASCALIENTES</td>\n",
       "      <td>57</td>\n",
       "      <td>00:00.0</td>\n",
       "      <td>00:00.0</td>\n",
       "      <td>Evaluación Adicional</td>\n",
       "    </tr>\n",
       "    <tr>\n",
       "      <th>4</th>\n",
       "      <td>1</td>\n",
       "      <td>Aguascalientes</td>\n",
       "      <td>1</td>\n",
       "      <td>Aguascalientes</td>\n",
       "      <td>1</td>\n",
       "      <td>AGUASCALIENTES</td>\n",
       "      <td>57</td>\n",
       "      <td>00:00.0</td>\n",
       "      <td>00:00.0</td>\n",
       "      <td>Altamente Sugestiva a Malignidad</td>\n",
       "    </tr>\n",
       "  </tbody>\n",
       "</table>\n",
       "</div>"
      ],
      "text/plain": [
       "   Clave Entidad         Entidad  Clave Jurisdicción    Jurisdicción  \\\n",
       "0              1  Aguascalientes                   1  Aguascalientes   \n",
       "1              1  Aguascalientes                   1  Aguascalientes   \n",
       "2              1  Aguascalientes                   1  Aguascalientes   \n",
       "3              1  Aguascalientes                   1  Aguascalientes   \n",
       "4              1  Aguascalientes                   1  Aguascalientes   \n",
       "\n",
       "   Clave Municipio       Municipio  Edad Fecha Toma Masto  \\\n",
       "0                1  AGUASCALIENTES    57          00:00.0   \n",
       "1                1  AGUASCALIENTES    57          00:00.0   \n",
       "2                1  AGUASCALIENTES    57          00:00.0   \n",
       "3                1  AGUASCALIENTES    57          00:00.0   \n",
       "4                1  AGUASCALIENTES    57          00:00.0   \n",
       "\n",
       "  Fecha Interpretación Masto                         Resultado  \n",
       "0                    00:00.0  Altamente Sugestiva a Malignidad  \n",
       "1                    00:00.0  Altamente Sugestiva a Malignidad  \n",
       "2                    00:00.0             Probablemente Benigna  \n",
       "3                    00:00.0              Evaluación Adicional  \n",
       "4                    00:00.0  Altamente Sugestiva a Malignidad  "
      ]
     },
     "execution_count": 74,
     "metadata": {},
     "output_type": "execute_result"
    }
   ],
   "source": [
    "#https://datos.gob.mx/busca/dataset/cancer-de-la-mujer-sicam-cancer-de-mama\n",
    "path = 'C:\\\\Users\\\\hades\\\\Downloads\\\\dataset práctica 1\\\\Mastografías 2017.csv'\n",
    "\n",
    "dataframe = pd.read_csv(path, encoding='latin', error_bad_lines=False)\n",
    "dataframe.head()"
   ]
  },
  {
   "cell_type": "code",
   "execution_count": 75,
   "metadata": {},
   "outputs": [
    {
     "data": {
      "text/html": [
       "<div>\n",
       "<style scoped>\n",
       "    .dataframe tbody tr th:only-of-type {\n",
       "        vertical-align: middle;\n",
       "    }\n",
       "\n",
       "    .dataframe tbody tr th {\n",
       "        vertical-align: top;\n",
       "    }\n",
       "\n",
       "    .dataframe thead th {\n",
       "        text-align: right;\n",
       "    }\n",
       "</style>\n",
       "<table border=\"1\" class=\"dataframe\">\n",
       "  <thead>\n",
       "    <tr style=\"text-align: right;\">\n",
       "      <th></th>\n",
       "      <th>Clave Entidad</th>\n",
       "      <th>Clave Jurisdicción</th>\n",
       "      <th>Clave Municipio</th>\n",
       "      <th>Edad</th>\n",
       "    </tr>\n",
       "  </thead>\n",
       "  <tbody>\n",
       "    <tr>\n",
       "      <th>count</th>\n",
       "      <td>855017.000000</td>\n",
       "      <td>855017.000000</td>\n",
       "      <td>855017.000000</td>\n",
       "      <td>855017.000000</td>\n",
       "    </tr>\n",
       "    <tr>\n",
       "      <th>mean</th>\n",
       "      <td>16.195659</td>\n",
       "      <td>5.270046</td>\n",
       "      <td>41.729113</td>\n",
       "      <td>50.756363</td>\n",
       "    </tr>\n",
       "    <tr>\n",
       "      <th>std</th>\n",
       "      <td>7.068885</td>\n",
       "      <td>5.228078</td>\n",
       "      <td>39.831590</td>\n",
       "      <td>7.558090</td>\n",
       "    </tr>\n",
       "    <tr>\n",
       "      <th>min</th>\n",
       "      <td>1.000000</td>\n",
       "      <td>1.000000</td>\n",
       "      <td>1.000000</td>\n",
       "      <td>25.000000</td>\n",
       "    </tr>\n",
       "    <tr>\n",
       "      <th>25%</th>\n",
       "      <td>11.000000</td>\n",
       "      <td>1.000000</td>\n",
       "      <td>9.000000</td>\n",
       "      <td>44.000000</td>\n",
       "    </tr>\n",
       "    <tr>\n",
       "      <th>50%</th>\n",
       "      <td>15.000000</td>\n",
       "      <td>4.000000</td>\n",
       "      <td>30.000000</td>\n",
       "      <td>50.000000</td>\n",
       "    </tr>\n",
       "    <tr>\n",
       "      <th>75%</th>\n",
       "      <td>21.000000</td>\n",
       "      <td>7.000000</td>\n",
       "      <td>67.000000</td>\n",
       "      <td>56.000000</td>\n",
       "    </tr>\n",
       "    <tr>\n",
       "      <th>max</th>\n",
       "      <td>32.000000</td>\n",
       "      <td>71.000000</td>\n",
       "      <td>553.000000</td>\n",
       "      <td>69.000000</td>\n",
       "    </tr>\n",
       "  </tbody>\n",
       "</table>\n",
       "</div>"
      ],
      "text/plain": [
       "       Clave Entidad  Clave Jurisdicción  Clave Municipio           Edad\n",
       "count  855017.000000       855017.000000    855017.000000  855017.000000\n",
       "mean       16.195659            5.270046        41.729113      50.756363\n",
       "std         7.068885            5.228078        39.831590       7.558090\n",
       "min         1.000000            1.000000         1.000000      25.000000\n",
       "25%        11.000000            1.000000         9.000000      44.000000\n",
       "50%        15.000000            4.000000        30.000000      50.000000\n",
       "75%        21.000000            7.000000        67.000000      56.000000\n",
       "max        32.000000           71.000000       553.000000      69.000000"
      ]
     },
     "execution_count": 75,
     "metadata": {},
     "output_type": "execute_result"
    }
   ],
   "source": [
    "dataframe.describe()"
   ]
  },
  {
   "cell_type": "code",
   "execution_count": 76,
   "metadata": {},
   "outputs": [
    {
     "data": {
      "image/png": "[encoded data removed]",
      "text/plain": [
       "<Figure size 1152x648 with 4 Axes>"
      ]
     },
     "metadata": {},
     "output_type": "display_data"
    }
   ],
   "source": [
    "dataframe.hist()\n",
    "plt.show()"
   ]
  },
  {
   "cell_type": "code",
   "execution_count": 78,
   "metadata": {},
   "outputs": [
    {
     "name": "stdout",
     "output_type": "stream",
     "text": [
      "Edad\n",
      "25       27\n",
      "26       32\n",
      "27       25\n",
      "28       51\n",
      "29       75\n",
      "30       85\n",
      "31      100\n",
      "32      103\n",
      "33      164\n",
      "34      221\n",
      "35      334\n",
      "36      390\n",
      "37      661\n",
      "38      960\n",
      "39     2379\n",
      "40    36915\n",
      "41    41762\n",
      "42    43138\n",
      "43    43768\n",
      "44    44226\n",
      "45    43613\n",
      "46    41726\n",
      "47    40930\n",
      "48    39453\n",
      "49    38543\n",
      "50    37858\n",
      "51    36241\n",
      "52    34873\n",
      "53    33194\n",
      "54    30846\n",
      "55    29074\n",
      "56    27793\n",
      "57    26846\n",
      "58    24466\n",
      "59    22197\n",
      "60    20772\n",
      "61    18743\n",
      "62    17404\n",
      "63    15397\n",
      "64    13505\n",
      "65    11904\n",
      "66    10629\n",
      "67     9248\n",
      "68     7890\n",
      "69     6456\n",
      "dtype: int64\n"
     ]
    }
   ],
   "source": [
    "print(dataframe.groupby('Edad').size())"
   ]
  },
  {
   "cell_type": "code",
   "execution_count": 79,
   "metadata": {},
   "outputs": [
    {
     "name": "stderr",
     "output_type": "stream",
     "text": [
      "C:\\Users\\hades\\Anaconda3\\lib\\site-packages\\seaborn\\categorical.py:3666: UserWarning: The `factorplot` function has been renamed to `catplot`. The original name will be removed in a future release. Please update your code. Note that the default `kind` in `factorplot` (`'point'`) has changed `'strip'` in `catplot`.\n",
      "  warnings.warn(msg)\n"
     ]
    },
    {
     "data": {
      "text/plain": [
       "<seaborn.axisgrid.FacetGrid at 0x1e2054faba8>"
      ]
     },
     "execution_count": 79,
     "metadata": {},
     "output_type": "execute_result"
    },
    {
     "data": {
      "image/png": "[encoded data removed]",
      "text/plain": [
       "<Figure size 1080x360 with 1 Axes>"
      ]
     },
     "metadata": {},
     "output_type": "display_data"
    }
   ],
   "source": [
    "sb.factorplot('Edad',data=dataframe,kind=\"count\", aspect=3)"
   ]
  },
  {
   "cell_type": "code",
   "execution_count": 84,
   "metadata": {},
   "outputs": [
    {
     "data": {
      "text/plain": [
       "['Altamente Sugestiva a Malignidad',\n",
       " 'Probablemente Benigna',\n",
       " 'Evaluación Adicional',\n",
       " 'Benigna',\n",
       " 'Anormalidad Sospechosa',\n",
       " 'Riesgo Intermedio de Malignidad',\n",
       " 'Baja Sospecha de Malignidad',\n",
       " 'Negativa',\n",
       " 'Riesgo Moderado de Malignidad']"
      ]
     },
     "execution_count": 84,
     "metadata": {},
     "output_type": "execute_result"
    }
   ],
   "source": [
    "list(dataframe['Resultado'].unique())"
   ]
  },
  {
   "cell_type": "code",
   "execution_count": 85,
   "metadata": {},
   "outputs": [
    {
     "data": {
      "text/plain": [
       "{'Altamente Sugestiva a Malignidad': 1,\n",
       " 'Probablemente Benigna': 2,\n",
       " 'Evaluación Adicional': 3,\n",
       " 'Benigna': 4,\n",
       " 'Anormalidad Sospechosa': 5,\n",
       " 'Riesgo Intermedio de Malignidad': 6,\n",
       " 'Baja Sospecha de Malignidad': 7,\n",
       " 'Negativa': 8,\n",
       " 'Riesgo Moderado de Malignidad': 9}"
      ]
     },
     "execution_count": 85,
     "metadata": {},
     "output_type": "execute_result"
    }
   ],
   "source": [
    "keys = list(df['Resultado'].unique())\n",
    "vals = range(1,10)\n",
    "act = dict(zip(keys, vals))\n",
    "act"
   ]
  },
  {
   "cell_type": "code",
   "execution_count": 86,
   "metadata": {},
   "outputs": [
    {
     "data": {
      "text/html": [
       "<div>\n",
       "<style scoped>\n",
       "    .dataframe tbody tr th:only-of-type {\n",
       "        vertical-align: middle;\n",
       "    }\n",
       "\n",
       "    .dataframe tbody tr th {\n",
       "        vertical-align: top;\n",
       "    }\n",
       "\n",
       "    .dataframe thead th {\n",
       "        text-align: right;\n",
       "    }\n",
       "</style>\n",
       "<table border=\"1\" class=\"dataframe\">\n",
       "  <thead>\n",
       "    <tr style=\"text-align: right;\">\n",
       "      <th></th>\n",
       "      <th>Clave Entidad</th>\n",
       "      <th>Entidad</th>\n",
       "      <th>Clave Jurisdicción</th>\n",
       "      <th>Jurisdicción</th>\n",
       "      <th>Clave Municipio</th>\n",
       "      <th>Municipio</th>\n",
       "      <th>Edad</th>\n",
       "      <th>Fecha Toma Masto</th>\n",
       "      <th>Fecha Interpretación Masto</th>\n",
       "      <th>Resultado</th>\n",
       "    </tr>\n",
       "  </thead>\n",
       "  <tbody>\n",
       "    <tr>\n",
       "      <th>0</th>\n",
       "      <td>1</td>\n",
       "      <td>Aguascalientes</td>\n",
       "      <td>1</td>\n",
       "      <td>Aguascalientes</td>\n",
       "      <td>1</td>\n",
       "      <td>AGUASCALIENTES</td>\n",
       "      <td>57</td>\n",
       "      <td>00:00.0</td>\n",
       "      <td>00:00.0</td>\n",
       "      <td>Altamente Sugestiva a Malignidad</td>\n",
       "    </tr>\n",
       "    <tr>\n",
       "      <th>1</th>\n",
       "      <td>1</td>\n",
       "      <td>Aguascalientes</td>\n",
       "      <td>1</td>\n",
       "      <td>Aguascalientes</td>\n",
       "      <td>1</td>\n",
       "      <td>AGUASCALIENTES</td>\n",
       "      <td>57</td>\n",
       "      <td>00:00.0</td>\n",
       "      <td>00:00.0</td>\n",
       "      <td>Altamente Sugestiva a Malignidad</td>\n",
       "    </tr>\n",
       "    <tr>\n",
       "      <th>2</th>\n",
       "      <td>1</td>\n",
       "      <td>Aguascalientes</td>\n",
       "      <td>1</td>\n",
       "      <td>Aguascalientes</td>\n",
       "      <td>1</td>\n",
       "      <td>AGUASCALIENTES</td>\n",
       "      <td>57</td>\n",
       "      <td>00:00.0</td>\n",
       "      <td>00:00.0</td>\n",
       "      <td>Probablemente Benigna</td>\n",
       "    </tr>\n",
       "    <tr>\n",
       "      <th>3</th>\n",
       "      <td>1</td>\n",
       "      <td>Aguascalientes</td>\n",
       "      <td>1</td>\n",
       "      <td>Aguascalientes</td>\n",
       "      <td>1</td>\n",
       "      <td>AGUASCALIENTES</td>\n",
       "      <td>57</td>\n",
       "      <td>00:00.0</td>\n",
       "      <td>00:00.0</td>\n",
       "      <td>Evaluación Adicional</td>\n",
       "    </tr>\n",
       "    <tr>\n",
       "      <th>4</th>\n",
       "      <td>1</td>\n",
       "      <td>Aguascalientes</td>\n",
       "      <td>1</td>\n",
       "      <td>Aguascalientes</td>\n",
       "      <td>1</td>\n",
       "      <td>AGUASCALIENTES</td>\n",
       "      <td>57</td>\n",
       "      <td>00:00.0</td>\n",
       "      <td>00:00.0</td>\n",
       "      <td>Altamente Sugestiva a Malignidad</td>\n",
       "    </tr>\n",
       "  </tbody>\n",
       "</table>\n",
       "</div>"
      ],
      "text/plain": [
       "   Clave Entidad         Entidad  Clave Jurisdicción    Jurisdicción  \\\n",
       "0              1  Aguascalientes                   1  Aguascalientes   \n",
       "1              1  Aguascalientes                   1  Aguascalientes   \n",
       "2              1  Aguascalientes                   1  Aguascalientes   \n",
       "3              1  Aguascalientes                   1  Aguascalientes   \n",
       "4              1  Aguascalientes                   1  Aguascalientes   \n",
       "\n",
       "   Clave Municipio       Municipio  Edad Fecha Toma Masto  \\\n",
       "0                1  AGUASCALIENTES    57          00:00.0   \n",
       "1                1  AGUASCALIENTES    57          00:00.0   \n",
       "2                1  AGUASCALIENTES    57          00:00.0   \n",
       "3                1  AGUASCALIENTES    57          00:00.0   \n",
       "4                1  AGUASCALIENTES    57          00:00.0   \n",
       "\n",
       "  Fecha Interpretación Masto                         Resultado  \n",
       "0                    00:00.0  Altamente Sugestiva a Malignidad  \n",
       "1                    00:00.0  Altamente Sugestiva a Malignidad  \n",
       "2                    00:00.0             Probablemente Benigna  \n",
       "3                    00:00.0              Evaluación Adicional  \n",
       "4                    00:00.0  Altamente Sugestiva a Malignidad  "
      ]
     },
     "execution_count": 86,
     "metadata": {},
     "output_type": "execute_result"
    }
   ],
   "source": [
    "df_copy = df.copy()\n",
    "df_copy.head()"
   ]
  },
  {
   "cell_type": "code",
   "execution_count": 87,
   "metadata": {},
   "outputs": [
    {
     "data": {
      "text/html": [
       "<div>\n",
       "<style scoped>\n",
       "    .dataframe tbody tr th:only-of-type {\n",
       "        vertical-align: middle;\n",
       "    }\n",
       "\n",
       "    .dataframe tbody tr th {\n",
       "        vertical-align: top;\n",
       "    }\n",
       "\n",
       "    .dataframe thead th {\n",
       "        text-align: right;\n",
       "    }\n",
       "</style>\n",
       "<table border=\"1\" class=\"dataframe\">\n",
       "  <thead>\n",
       "    <tr style=\"text-align: right;\">\n",
       "      <th></th>\n",
       "      <th>Clave Entidad</th>\n",
       "      <th>Entidad</th>\n",
       "      <th>Clave Jurisdicción</th>\n",
       "      <th>Jurisdicción</th>\n",
       "      <th>Clave Municipio</th>\n",
       "      <th>Municipio</th>\n",
       "      <th>Edad</th>\n",
       "      <th>Fecha Toma Masto</th>\n",
       "      <th>Fecha Interpretación Masto</th>\n",
       "      <th>Resultado</th>\n",
       "    </tr>\n",
       "  </thead>\n",
       "  <tbody>\n",
       "    <tr>\n",
       "      <th>0</th>\n",
       "      <td>1</td>\n",
       "      <td>Aguascalientes</td>\n",
       "      <td>1</td>\n",
       "      <td>Aguascalientes</td>\n",
       "      <td>1</td>\n",
       "      <td>AGUASCALIENTES</td>\n",
       "      <td>57</td>\n",
       "      <td>00:00.0</td>\n",
       "      <td>00:00.0</td>\n",
       "      <td>1</td>\n",
       "    </tr>\n",
       "    <tr>\n",
       "      <th>1</th>\n",
       "      <td>1</td>\n",
       "      <td>Aguascalientes</td>\n",
       "      <td>1</td>\n",
       "      <td>Aguascalientes</td>\n",
       "      <td>1</td>\n",
       "      <td>AGUASCALIENTES</td>\n",
       "      <td>57</td>\n",
       "      <td>00:00.0</td>\n",
       "      <td>00:00.0</td>\n",
       "      <td>1</td>\n",
       "    </tr>\n",
       "    <tr>\n",
       "      <th>2</th>\n",
       "      <td>1</td>\n",
       "      <td>Aguascalientes</td>\n",
       "      <td>1</td>\n",
       "      <td>Aguascalientes</td>\n",
       "      <td>1</td>\n",
       "      <td>AGUASCALIENTES</td>\n",
       "      <td>57</td>\n",
       "      <td>00:00.0</td>\n",
       "      <td>00:00.0</td>\n",
       "      <td>2</td>\n",
       "    </tr>\n",
       "    <tr>\n",
       "      <th>3</th>\n",
       "      <td>1</td>\n",
       "      <td>Aguascalientes</td>\n",
       "      <td>1</td>\n",
       "      <td>Aguascalientes</td>\n",
       "      <td>1</td>\n",
       "      <td>AGUASCALIENTES</td>\n",
       "      <td>57</td>\n",
       "      <td>00:00.0</td>\n",
       "      <td>00:00.0</td>\n",
       "      <td>3</td>\n",
       "    </tr>\n",
       "    <tr>\n",
       "      <th>4</th>\n",
       "      <td>1</td>\n",
       "      <td>Aguascalientes</td>\n",
       "      <td>1</td>\n",
       "      <td>Aguascalientes</td>\n",
       "      <td>1</td>\n",
       "      <td>AGUASCALIENTES</td>\n",
       "      <td>57</td>\n",
       "      <td>00:00.0</td>\n",
       "      <td>00:00.0</td>\n",
       "      <td>1</td>\n",
       "    </tr>\n",
       "  </tbody>\n",
       "</table>\n",
       "</div>"
      ],
      "text/plain": [
       "   Clave Entidad         Entidad  Clave Jurisdicción    Jurisdicción  \\\n",
       "0              1  Aguascalientes                   1  Aguascalientes   \n",
       "1              1  Aguascalientes                   1  Aguascalientes   \n",
       "2              1  Aguascalientes                   1  Aguascalientes   \n",
       "3              1  Aguascalientes                   1  Aguascalientes   \n",
       "4              1  Aguascalientes                   1  Aguascalientes   \n",
       "\n",
       "   Clave Municipio       Municipio  Edad Fecha Toma Masto  \\\n",
       "0                1  AGUASCALIENTES    57          00:00.0   \n",
       "1                1  AGUASCALIENTES    57          00:00.0   \n",
       "2                1  AGUASCALIENTES    57          00:00.0   \n",
       "3                1  AGUASCALIENTES    57          00:00.0   \n",
       "4                1  AGUASCALIENTES    57          00:00.0   \n",
       "\n",
       "  Fecha Interpretación Masto  Resultado  \n",
       "0                    00:00.0          1  \n",
       "1                    00:00.0          1  \n",
       "2                    00:00.0          2  \n",
       "3                    00:00.0          3  \n",
       "4                    00:00.0          1  "
      ]
     },
     "execution_count": 87,
     "metadata": {},
     "output_type": "execute_result"
    }
   ],
   "source": [
    "df_copy['Resultado'] = df['Resultado'].map(act)\n",
    "df_copy.head()"
   ]
  },
  {
   "cell_type": "code",
   "execution_count": 88,
   "metadata": {},
   "outputs": [
    {
     "data": {
      "text/plain": [
       "[1, 2, 3, 4, 5, 6, 7, 8, 9]"
      ]
     },
     "execution_count": 88,
     "metadata": {},
     "output_type": "execute_result"
    }
   ],
   "source": [
    "list(df_copy['Resultado'].unique())"
   ]
  },
  {
   "cell_type": "code",
   "execution_count": 89,
   "metadata": {},
   "outputs": [
    {
     "name": "stderr",
     "output_type": "stream",
     "text": [
      "C:\\Users\\hades\\Anaconda3\\lib\\site-packages\\seaborn\\categorical.py:3666: UserWarning: The `factorplot` function has been renamed to `catplot`. The original name will be removed in a future release. Please update your code. Note that the default `kind` in `factorplot` (`'point'`) has changed `'strip'` in `catplot`.\n",
      "  warnings.warn(msg)\n"
     ]
    },
    {
     "data": {
      "text/plain": [
       "<seaborn.axisgrid.FacetGrid at 0x1e2040e0390>"
      ]
     },
     "execution_count": 89,
     "metadata": {},
     "output_type": "execute_result"
    },
    {
     "data": {
      "image/png": "[encoded data removed]",
      "text/plain": [
       "<Figure size 1080x360 with 1 Axes>"
      ]
     },
     "metadata": {},
     "output_type": "display_data"
    }
   ],
   "source": [
    "sb.factorplot('Resultado',data=df_copy,kind=\"count\", aspect=3)"
   ]
  },
  {
   "cell_type": "code",
   "execution_count": 91,
   "metadata": {},
   "outputs": [],
   "source": [
    "\n",
    "X = df_copy[['Edad','Clave Municipio']].values\n",
    "y = df_copy['Resultado'].values\n",
    "\n",
    "X_train, X_test, y_train, y_test = train_test_split(X, y, random_state=0)\n",
    "scaler = MinMaxScaler()\n",
    "X_train = scaler.fit_transform(X_train)\n",
    "X_test = scaler.transform(X_test)\n"
   ]
  },
  {
   "cell_type": "code",
   "execution_count": 92,
   "metadata": {},
   "outputs": [
    {
     "name": "stdout",
     "output_type": "stream",
     "text": [
      "Accuracy of K-NN classifier on training set: 0.72\n",
      "Accuracy of K-NN classifier on test set: 0.72\n"
     ]
    }
   ],
   "source": [
    "n_neighbors = 7\n",
    "\n",
    "knn = KNeighborsClassifier(n_neighbors)\n",
    "knn.fit(X_train, y_train)\n",
    "print('Accuracy of K-NN classifier on training set: {:.2f}'\n",
    "     .format(knn.score(X_train, y_train)))\n",
    "print('Accuracy of K-NN classifier on test set: {:.2f}'\n",
    "     .format(knn.score(X_test, y_test)))\n"
   ]
  },
  {
   "cell_type": "code",
   "execution_count": 93,
   "metadata": {},
   "outputs": [
    {
     "name": "stdout",
     "output_type": "stream",
     "text": [
      "[[     0      3      9    316      0      0      0     13      0]\n",
      " [     1     45    191   5352      0      0      0    214      0]\n",
      " [     1     85   1375  15307      1      0      0    737      0]\n",
      " [     1    504   3296 147791      1      0      0   5599      0]\n",
      " [     0      3     22    809      0      0      0     26      0]\n",
      " [     0      0     10    146      0      0      0      6      0]\n",
      " [     0      1     10    185      0      0      0      4      0]\n",
      " [     5     97   1066  26707      0      0      0   3747      0]\n",
      " [     0      0      0     66      0      0      0      3      0]]\n"
     ]
    },
    {
     "name": "stderr",
     "output_type": "stream",
     "text": [
      "C:\\Users\\hades\\Anaconda3\\lib\\site-packages\\sklearn\\metrics\\classification.py:1437: UndefinedMetricWarning: Precision and F-score are ill-defined and being set to 0.0 in labels with no predicted samples.\n",
      "  'precision', 'predicted', average, warn_for)\n"
     ]
    },
    {
     "name": "stdout",
     "output_type": "stream",
     "text": [
      "              precision    recall  f1-score   support\n",
      "\n",
      "           1       0.00      0.00      0.00       341\n",
      "           2       0.06      0.01      0.01      5803\n",
      "           3       0.23      0.08      0.12     17506\n",
      "           4       0.75      0.94      0.84    157192\n",
      "           5       0.00      0.00      0.00       860\n",
      "           6       0.00      0.00      0.00       162\n",
      "           7       0.00      0.00      0.00       200\n",
      "           8       0.36      0.12      0.18     31622\n",
      "           9       0.00      0.00      0.00        69\n",
      "\n",
      "    accuracy                           0.72    213755\n",
      "   macro avg       0.16      0.13      0.13    213755\n",
      "weighted avg       0.63      0.72      0.65    213755\n",
      "\n"
     ]
    }
   ],
   "source": [
    "pred = knn.predict(X_test)\n",
    "print(confusion_matrix(y_test, pred))\n",
    "print(classification_report(y_test, pred))"
   ]
  },
  {
   "cell_type": "code",
   "execution_count": null,
   "metadata": {},
   "outputs": [],
   "source": []
  },
  {
   "cell_type": "code",
   "execution_count": null,
   "metadata": {},
   "outputs": [],
   "source": []
  }
 ],
 "metadata": {
  "kernelspec": {
   "display_name": "Python 3",
   "language": "python",
   "name": "python3"
  },
  "language_info": {
   "codemirror_mode": {
    "name": "ipython",
    "version": 3
   },
   "file_extension": ".py",
   "mimetype": "text/x-python",
   "name": "python",
   "nbconvert_exporter": "python",
   "pygments_lexer": "ipython3",
   "version": "3.7.3"
  }
 },
 "nbformat": 4,
 "nbformat_minor": 2
}
